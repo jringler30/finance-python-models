{
  "nbformat": 4,
  "nbformat_minor": 0,
  "metadata": {
    "colab": {
      "provenance": [],
      "authorship_tag": "ABX9TyNx0IPjsapJ2+GKYGLreQHk",
      "include_colab_link": true
    },
    "kernelspec": {
      "name": "python3",
      "display_name": "Python 3"
    },
    "language_info": {
      "name": "python"
    }
  },
  "cells": [
    {
      "cell_type": "markdown",
      "metadata": {
        "id": "view-in-github",
        "colab_type": "text"
      },
      "source": [
        "<a href=\"https://colab.research.google.com/github/jringler30/finance-python-models/blob/main/PV_FV_Calculator.ipynb\" target=\"_parent\"><img src=\"https://colab.research.google.com/assets/colab-badge.svg\" alt=\"Open In Colab\"/></a>"
      ]
    },
    {
      "cell_type": "markdown",
      "source": [
        "Problem 6 Module 1 - This was helped edited using an AI"
      ],
      "metadata": {
        "id": "j3OnWWrialtw"
      }
    },
    {
      "cell_type": "code",
      "source": [
        "def fv_ord_annuity(payment, k, n):\n",
        "    return payment * (((1 + k) ** n - 1) / k)\n",
        "\n",
        "def pv_ord_annuity(payment, k, n):\n",
        "    return payment * (1 - (1 + k) ** -n) / k\n",
        "\n",
        "def pv_growing_annuity(payment, k, g, n):\n",
        "    return payment * (1 - ((1 + g) / (1 + k)) ** n) / (k - g)\n",
        "\n",
        "def pv_growing_perpetuity(payment, k, g):\n",
        "    return payment / (k - g)\n",
        "\n",
        "def discount_value(value, k, t):\n",
        "    return value / (1 + k) ** t\n",
        "\n",
        "def grow_value(value, g, t):\n",
        "    return value * (1 + g) ** t\n",
        "\n",
        "def fv_pv_calculator():\n",
        "\n",
        "    calc_type = input(\"Would you like to calculate Present Value (PV) or Future Value (FV)? \").strip().upper()\n",
        "    while calc_type not in (\"PV\", \"FV\"):\n",
        "        calc_type = input(\"Please enter PV or FV: \").strip().upper()\n",
        "\n",
        "    cash_flow_type = input(\"Are you calculating for a lump sum (L) or a phased payment stream (P)? \").strip().upper()\n",
        "    while cash_flow_type not in (\"L\", \"P\"):\n",
        "        cash_flow_type = input(\"Please enter 'L' or 'P': \").strip().upper()\n",
        "\n",
        "    discount_rate = float(input(\"Enter discount rate (as decimal, e.g. 0.08 for 8%): \"))\n",
        "\n",
        "    if cash_flow_type == \"L\":\n",
        "        payment = float(input(\"Enter the lump sum amount: \"))\n",
        "        n = int(input(\"Enter the number of periods into the future (n): \"))\n",
        "\n",
        "        if calc_type == \"PV\":\n",
        "            result = discount_value(payment, discount_rate, n)\n",
        "            print(f\"\\nPresent Value of lump sum: ${result:.2f}\")\n",
        "        else:\n",
        "            result = grow_value(payment, discount_rate, n)\n",
        "            print(f\"\\nFuture Value of lump sum: ${result:.2f}\")\n",
        "        return\n",
        "\n",
        "    forecast_periods = int(input(\"Enter total number of discrete forecast periods: \"))\n",
        "    growth_phases = int(input(\"Enter number of growth phases: \"))\n",
        "\n",
        "    total_value = 0\n",
        "    current_time = 0\n",
        "    breakdown = []\n",
        "\n",
        "    for t in range(forecast_periods):\n",
        "        cf = float(input(f\"Enter cash flow for discrete period {t + 1}: \"))\n",
        "        if calc_type == \"PV\":\n",
        "            pv = discount_value(cf, discount_rate, t + 1)\n",
        "            breakdown.append((f\"Discrete {t + 1} PV\", pv))\n",
        "            total_value += pv\n",
        "        else:\n",
        "            fv = grow_value(cf, discount_rate, t + 1)\n",
        "            breakdown.append((f\"Discrete {t + 1} FV\", fv))\n",
        "            total_value += fv\n",
        "\n",
        "    current_time += forecast_periods\n",
        "\n",
        "    for i in range(growth_phases):\n",
        "        print(f\"\\n--- Phase {i + 1} ---\")\n",
        "        g = float(input(\"Enter growth rate for this phase (as decimal, e.g. 0.03 for 3%): \"))\n",
        "        n = int(input(\"Enter length of this phase in periods: \"))\n",
        "        payment = float(input(\"Enter payment amount per period for this phase: \"))\n",
        "\n",
        "        if i == growth_phases - 1:\n",
        "            phase_type = input(\"Is this an annuity or perpetuity? (Type 'annuity' or 'perpetuity'): \").strip().lower()\n",
        "            while phase_type not in (\"annuity\", \"perpetuity\"):\n",
        "                phase_type = input(\"Please type 'annuity' or 'perpetuity': \").strip().lower()\n",
        "        else:\n",
        "            phase_type = \"annuity\"\n",
        "\n",
        "        if calc_type == \"PV\":\n",
        "            if phase_type == \"annuity\":\n",
        "                val = pv_ord_annuity(payment, discount_rate, n) if g == 0 else pv_growing_annuity(payment, discount_rate, g, n)\n",
        "            else:  # Perpetuity\n",
        "                val = pv_growing_perpetuity(payment, discount_rate, g)\n",
        "            if current_time > 0:\n",
        "                val = discount_value(val, discount_rate, current_time)\n",
        "\n",
        "        elif calc_type == \"FV\":\n",
        "            if phase_type == \"perpetuity\":\n",
        "                print(\"Future Value of a perpetuity is undefined. Skipping this phase.\")\n",
        "                continue\n",
        "            val = fv_ord_annuity(payment, discount_rate, n)\n",
        "            if current_time > 0:\n",
        "                val = grow_value(val, discount_rate, current_time)\n",
        "\n",
        "        breakdown.append((f\"Phase {i + 1} {phase_type.title()}\", val))\n",
        "        total_value += val\n",
        "        current_time += n\n",
        "\n",
        "    print(\"\\n--- Calculation Breakdown ---\")\n",
        "    for name, value in breakdown:\n",
        "        print(f\"{name}: ${value:.2f}\")\n",
        "\n",
        "    print(f\"\\nTOTAL {calc_type} = ${total_value:.2f}\")\n",
        "\n",
        "if __name__ == \"__main__\":\n",
        "    fv_pv_calculator()\n"
      ],
      "metadata": {
        "colab": {
          "base_uri": "https://localhost:8080/"
        },
        "id": "EFRNiiSxWwmx",
        "outputId": "39b9086d-f0f7-43d9-aee5-d60198204d17"
      },
      "execution_count": null,
      "outputs": [
        {
          "output_type": "stream",
          "name": "stdout",
          "text": [
            "Would you like to calculate Present Value (PV) or Future Value (FV)? PV\n",
            "Are you calculating for a lump sum (L) or a phased payment stream (P)? P\n",
            "Enter discount rate (as decimal, e.g. 0.08 for 8%): 0.1\n",
            "Enter total number of discrete forecast periods: 2\n",
            "Enter number of growth phases: 3\n",
            "Enter cash flow for discrete period 1: 1000\n",
            "Enter cash flow for discrete period 2: 1000\n",
            "\n",
            "--- Phase 1 ---\n",
            "Enter growth rate for this phase (as decimal, e.g. 0.03 for 3%): 0.05\n",
            "Enter length of this phase in periods: 3\n",
            "Enter payment amount per period for this phase: 1100\n",
            "\n",
            "--- Phase 2 ---\n",
            "Enter growth rate for this phase (as decimal, e.g. 0.03 for 3%): 0.02\n",
            "Enter length of this phase in periods: 10\n",
            "Enter payment amount per period for this phase: 1100\n",
            "\n",
            "--- Phase 3 ---\n",
            "Enter growth rate for this phase (as decimal, e.g. 0.03 for 3%): 0.02\n",
            "Enter length of this phase in periods: 1\n",
            "Enter payment amount per period for this phase: 1500\n",
            "Is this an annuity or perpetuity? (Type 'annuity' or 'perpetuity'): perpetuity\n",
            "\n",
            "--- Calculation Breakdown ---\n",
            "Discrete 1 PV: $909.09\n",
            "Discrete 2 PV: $826.45\n",
            "Phase 1 Annuity: $2368.35\n",
            "Phase 2 Annuity: $4525.18\n",
            "Phase 3 Perpetuity: $4488.60\n",
            "\n",
            "TOTAL PV = $13117.66\n"
          ]
        }
      ]
    }
  ]
}
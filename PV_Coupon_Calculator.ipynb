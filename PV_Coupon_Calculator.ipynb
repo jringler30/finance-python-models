{
  "nbformat": 4,
  "nbformat_minor": 0,
  "metadata": {
    "colab": {
      "provenance": [],
      "authorship_tag": "ABX9TyNNuDuige+ISm42hW+lPIu7",
      "include_colab_link": true
    },
    "kernelspec": {
      "name": "python3",
      "display_name": "Python 3"
    },
    "language_info": {
      "name": "python"
    }
  },
  "cells": [
    {
      "cell_type": "markdown",
      "metadata": {
        "id": "view-in-github",
        "colab_type": "text"
      },
      "source": [
        "<a href=\"https://colab.research.google.com/github/jringler30/finance-python-models/blob/main/PV_Coupon_Calculator.ipynb\" target=\"_parent\"><img src=\"https://colab.research.google.com/assets/colab-badge.svg\" alt=\"Open In Colab\"/></a>"
      ]
    },
    {
      "cell_type": "code",
      "execution_count": null,
      "metadata": {
        "colab": {
          "base_uri": "https://localhost:8080/"
        },
        "id": "SBBGPwkZhoyA",
        "outputId": "4144c1eb-eb68-476a-f835-25224b7341b4"
      },
      "outputs": [
        {
          "output_type": "stream",
          "name": "stdout",
          "text": [
            "Enter Coupon Rate (e.g 5% = 0.05): 0.08\n",
            "Enter the annual time to maturity (e.g 10 years = 10): 5\n",
            "Enter the annual yield (e.g 5% = 0.05): 0.06\n",
            "Enter the par value: 1000\n",
            "Enter the frequency (e.g Semiannual = 2): 2\n",
            "\n",
            "You entered:\n",
            "Coupon Rate: 0.08\n",
            "Time to Maturity: 5.0\n",
            "Annual Yield: 0.06\n",
            "Par Value: 1000.0\n",
            "Frequency: 2.0\n",
            "\n",
            "Bond Price: $1,085.30\n",
            "Modified Duration: 4.13\n",
            "Maculary Duration: 4.25\n"
          ]
        }
      ],
      "source": [
        "def main():\n",
        "  anncprt = float(input(\"Enter Coupon Rate (e.g 5% = 0.05): \"))\n",
        "  annttm = float(input(\"Enter the annual time to maturity (e.g 10 years = 10): \"))\n",
        "  annytm = float(input(\"Enter the annual yield (e.g 5% = 0.05): \"))\n",
        "  parval = float(input(\"Enter the par value: \"))\n",
        "  freq = float(input(\"Enter the frequency (e.g Semiannual = 2): \"))\n",
        "\n",
        "  #Periodic Calculations\n",
        "  periodiccprt = anncprt/freq\n",
        "  periodiccppmt = periodiccprt*parval\n",
        "  periodicttm = annttm/freq\n",
        "  periodicytm = annytm/freq\n",
        "  periods = int(annttm*freq)\n",
        "\n",
        "  #Bond Price Calculation\n",
        "  price = 0\n",
        "  for t in range(1, periods + 1):\n",
        "      price += periodiccppmt / ((1 + periodicytm) ** t)\n",
        "  price += parval / ((1 + periodicytm) ** periods)\n",
        "\n",
        "  #Maculary Duration\n",
        "  macdur = 0\n",
        "  for t in range(1, periods + 1):\n",
        "      macdur += t * periodiccppmt / ((1 + periodicytm) ** t)\n",
        "  macdur += periods * parval / ((1 + periodicytm) ** periods)\n",
        "  macdur = macdur / price\n",
        "  macdur = macdur / freq\n",
        "\n",
        "  #Modified Duration\n",
        "  moddur = macdur / (1 + (annytm / freq))\n",
        "\n",
        "  print(\"\\nYou entered:\")\n",
        "  print(f\"Coupon Rate: {anncprt}\")\n",
        "  print(f\"Time to Maturity: {annttm}\")\n",
        "  print(f\"Annual Yield: {annytm}\")\n",
        "  print(f\"Par Value: {parval}\")\n",
        "  print(f\"Frequency: {freq}\")\n",
        "  print(f\"\\nBond Price: ${price:,.2f}\")\n",
        "  print(f\"Modified Duration: {moddur:,.2f}\")\n",
        "  print(f\"Maculary Duration: {macdur:,.2f}\")\n",
        "\n",
        "\n",
        "if __name__ == \"__main__\":\n",
        "    main()"
      ]
    }
  ]
}
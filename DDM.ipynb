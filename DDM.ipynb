{
  "nbformat": 4,
  "nbformat_minor": 0,
  "metadata": {
    "colab": {
      "provenance": [],
      "authorship_tag": "ABX9TyOzvgc+VQl9VIkV+0Ssgbw9",
      "include_colab_link": true
    },
    "kernelspec": {
      "name": "python3",
      "display_name": "Python 3"
    },
    "language_info": {
      "name": "python"
    }
  },
  "cells": [
    {
      "cell_type": "markdown",
      "metadata": {
        "id": "view-in-github",
        "colab_type": "text"
      },
      "source": [
        "<a href=\"https://colab.research.google.com/github/jringler30/finance-python-models/blob/main/DDM.ipynb\" target=\"_parent\"><img src=\"https://colab.research.google.com/assets/colab-badge.svg\" alt=\"Open In Colab\"/></a>"
      ]
    },
    {
      "cell_type": "code",
      "execution_count": null,
      "metadata": {
        "colab": {
          "base_uri": "https://localhost:8080/"
        },
        "id": "z_A0_4_O-VG0",
        "outputId": "5388c43f-d984-42b8-ee25-1c951c171290"
      },
      "outputs": [
        {
          "output_type": "stream",
          "name": "stdout",
          "text": [
            "What is the discount rate?: 0.0525\n",
            "How many periods are we forecasting?: 5\n",
            "What is the stock ticker?: wmt\n",
            "What is the terminal growth rate?: 0.035\n",
            "What is the dividend for period 1?: 0.91\n",
            "What is the dividend for period 2?: 1.05\n",
            "What is the dividend for period 3?: 1.3\n",
            "What is the dividend for period 4?: 1.55\n",
            "What is the dividend for period 5?: 1.82\n",
            "85.83\n",
            "0.37574511843318065\n",
            "1.3520631108548513\n",
            "2.5005425952101703\n",
            "3.801396726511549\n",
            "5.252659936361222\n",
            "The price of WMT is $97.59\n",
            "The Net Present Value of the stock is $91.08\n",
            "WMT is not worth investing in\n"
          ]
        }
      ],
      "source": [
        "####Librarys####\n",
        "import yfinance as yf\n",
        "from datetime import date\n",
        "\n",
        "####Time####\n",
        "def yearfrac(endDate):\n",
        "  today = date.today()\n",
        "  return (endDate - today).days / 365\n",
        "\n",
        "####inputs####\n",
        "discount_rate = float(input(\"What is the discount rate?: \"))\n",
        "forecasted_periods = int(input(\"How many periods are we forecasting?: \"))\n",
        "symbol = input(\"What is the stock ticker?: \").upper()\n",
        "terminal_growth_rate = float(input(\"What is the terminal growth rate?: \"))\n",
        "\n",
        "####Calculations####\n",
        "\n",
        "####Stock Price####\n",
        "def getStockPrice():\n",
        "  stock = yf.Ticker(symbol)\n",
        "  price = round(stock.fast_info['last_price'],2)\n",
        "  return price\n",
        "\n",
        "price = getStockPrice()\n",
        "\n",
        "####Forecasted Dividends####\n",
        "forecasted_dividends = []\n",
        "for i in range(forecasted_periods):\n",
        "  dividend = float(input(f\"What is the dividend for period {i + 1}?: \"))\n",
        "  forecasted_dividends.append(dividend)\n",
        "\n",
        "####Terminal Value####\n",
        "terminal_value = (forecasted_dividends[-1] * (1 + terminal_growth_rate)) / (discount_rate - terminal_growth_rate)\n",
        "terminal_value_present_value = terminal_value / ((1 + discount_rate) ** yearfrac(date(2025 + forecasted_periods-1, 12, 31)))\n",
        "terminal_value_present_value = round(terminal_value_present_value,2)\n",
        "print(terminal_value_present_value)\n",
        "\n",
        "####Present Value of Dividends####\n",
        "present_value_dividends = 0\n",
        "forecasted_dividends[0]= yearfrac(date(2025,12,31))*forecasted_dividends[0]\n",
        "for i in range(forecasted_periods):\n",
        "  present_value_dividends += forecasted_dividends[i] / (1 + discount_rate) ** (yearfrac(date(2025+i,12,31)))\n",
        "  print(present_value_dividends)\n",
        "\n",
        "present_value_dividends = round(present_value_dividends,2)\n",
        "\n",
        "####Net Present Value####\n",
        "net_present_value = present_value_dividends + terminal_value_present_value\n",
        "net_present_value = round(net_present_value,2)\n",
        "\n",
        "print(f\"The price of {symbol.upper()} is ${price}\")\n",
        "print(f\"The Net Present Value of the stock is ${net_present_value}\")\n",
        "\n",
        "if net_present_value > price * 1.05:\n",
        "  print(f\"{symbol.upper()} is worth investing in\")\n",
        "elif net_present_value < price * 1.05:\n",
        "  print(f\"{symbol.upper()} is not worth investing in\")\n",
        "else:\n",
        "  print(f\"Hold {symbol.upper}\")"
      ]
    }
  ]
}